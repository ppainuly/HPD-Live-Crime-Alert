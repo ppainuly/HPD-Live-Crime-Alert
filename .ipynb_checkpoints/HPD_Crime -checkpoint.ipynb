{
 "cells": [
  {
   "cell_type": "code",
   "execution_count": 41,
   "metadata": {},
   "outputs": [],
   "source": [
    "import pandas as pd\n",
    "import numpy as np \n",
    "import glob "
   ]
  },
  {
   "cell_type": "code",
   "execution_count": 42,
   "metadata": {},
   "outputs": [],
   "source": [
    "# Read Data source\n",
    "dfs_09 = pd.read_csv('data/HPD_Crime/UCR09_crime.csv')"
   ]
  },
  {
   "cell_type": "code",
   "execution_count": 43,
   "metadata": {},
   "outputs": [
    {
     "data": {
      "text/html": [
       "<div>\n",
       "<style scoped>\n",
       "    .dataframe tbody tr th:only-of-type {\n",
       "        vertical-align: middle;\n",
       "    }\n",
       "\n",
       "    .dataframe tbody tr th {\n",
       "        vertical-align: top;\n",
       "    }\n",
       "\n",
       "    .dataframe thead th {\n",
       "        text-align: right;\n",
       "    }\n",
       "</style>\n",
       "<table border=\"1\" class=\"dataframe\">\n",
       "  <thead>\n",
       "    <tr style=\"text-align: right;\">\n",
       "      <th></th>\n",
       "      <th>Unnamed: 0</th>\n",
       "      <th>ObjectID</th>\n",
       "      <th>Status</th>\n",
       "      <th>Score</th>\n",
       "      <th>Match_type</th>\n",
       "      <th>Side</th>\n",
       "      <th>X</th>\n",
       "      <th>Y</th>\n",
       "      <th>Match_addr</th>\n",
       "      <th>ARC_Street</th>\n",
       "      <th>...</th>\n",
       "      <th>Premise</th>\n",
       "      <th>Block Range</th>\n",
       "      <th>Street Name</th>\n",
       "      <th>Type</th>\n",
       "      <th>Suffix</th>\n",
       "      <th># Of Offenses</th>\n",
       "      <th>X__1</th>\n",
       "      <th>Address.1</th>\n",
       "      <th>City.1</th>\n",
       "      <th>State.1</th>\n",
       "    </tr>\n",
       "  </thead>\n",
       "  <tbody>\n",
       "    <tr>\n",
       "      <th>0</th>\n",
       "      <td>1</td>\n",
       "      <td>1</td>\n",
       "      <td>M</td>\n",
       "      <td>81.378428</td>\n",
       "      <td>A</td>\n",
       "      <td>R</td>\n",
       "      <td>-95.322341</td>\n",
       "      <td>29.801320</td>\n",
       "      <td>4500 WIPPRECHT ST, HOUSTON, TX, 77026</td>\n",
       "      <td>4500 WIPPRECHT ST</td>\n",
       "      <td>...</td>\n",
       "      <td>13R</td>\n",
       "      <td>4500-4599</td>\n",
       "      <td>WIPPRECHT</td>\n",
       "      <td>ST</td>\n",
       "      <td>-</td>\n",
       "      <td>1.0</td>\n",
       "      <td>NaN</td>\n",
       "      <td>4500 WIPPRECHT ST</td>\n",
       "      <td>HOUSTON</td>\n",
       "      <td>TX</td>\n",
       "    </tr>\n",
       "    <tr>\n",
       "      <th>1</th>\n",
       "      <td>2</td>\n",
       "      <td>2</td>\n",
       "      <td>M</td>\n",
       "      <td>81.378428</td>\n",
       "      <td>A</td>\n",
       "      <td>L</td>\n",
       "      <td>-95.478453</td>\n",
       "      <td>29.731622</td>\n",
       "      <td>5700 RICHMOND AVE, HOUSTON, TX, 77057</td>\n",
       "      <td>5700 RICHMOND AVE</td>\n",
       "      <td>...</td>\n",
       "      <td>18N</td>\n",
       "      <td>5700-5799</td>\n",
       "      <td>RICHMOND</td>\n",
       "      <td>AVE</td>\n",
       "      <td>-</td>\n",
       "      <td>1.0</td>\n",
       "      <td>NaN</td>\n",
       "      <td>5700 RICHMOND AVE</td>\n",
       "      <td>HOUSTON</td>\n",
       "      <td>TX</td>\n",
       "    </tr>\n",
       "    <tr>\n",
       "      <th>2</th>\n",
       "      <td>3</td>\n",
       "      <td>3</td>\n",
       "      <td>M</td>\n",
       "      <td>81.378428</td>\n",
       "      <td>A</td>\n",
       "      <td>R</td>\n",
       "      <td>-95.299274</td>\n",
       "      <td>29.900101</td>\n",
       "      <td>12200 SWAN RIVER DR, HOUSTON, TX, 77050</td>\n",
       "      <td>12200 SWAN RIVER DR</td>\n",
       "      <td>...</td>\n",
       "      <td>20D</td>\n",
       "      <td>12200-12299</td>\n",
       "      <td>SWAN RIVER</td>\n",
       "      <td>DR</td>\n",
       "      <td>-</td>\n",
       "      <td>1.0</td>\n",
       "      <td>NaN</td>\n",
       "      <td>12200 SWAN RIVER DR</td>\n",
       "      <td>HOUSTON</td>\n",
       "      <td>TX</td>\n",
       "    </tr>\n",
       "    <tr>\n",
       "      <th>3</th>\n",
       "      <td>4</td>\n",
       "      <td>4</td>\n",
       "      <td>M</td>\n",
       "      <td>81.378428</td>\n",
       "      <td>A</td>\n",
       "      <td>R</td>\n",
       "      <td>-95.351548</td>\n",
       "      <td>29.692139</td>\n",
       "      <td>6600 LONDON ST, HOUSTON, TX, 77021</td>\n",
       "      <td>6600 LONDON ST</td>\n",
       "      <td>...</td>\n",
       "      <td>20A</td>\n",
       "      <td>6600-6699</td>\n",
       "      <td>LONDON</td>\n",
       "      <td>ST</td>\n",
       "      <td>-</td>\n",
       "      <td>1.0</td>\n",
       "      <td>NaN</td>\n",
       "      <td>6600 LONDON ST</td>\n",
       "      <td>HOUSTON</td>\n",
       "      <td>TX</td>\n",
       "    </tr>\n",
       "    <tr>\n",
       "      <th>4</th>\n",
       "      <td>5</td>\n",
       "      <td>5</td>\n",
       "      <td>M</td>\n",
       "      <td>81.378428</td>\n",
       "      <td>A</td>\n",
       "      <td>R</td>\n",
       "      <td>-95.492678</td>\n",
       "      <td>29.671037</td>\n",
       "      <td>5900 DUMFRIES DR, HOUSTON, TX, 77096</td>\n",
       "      <td>5900 DUMFRIES DR</td>\n",
       "      <td>...</td>\n",
       "      <td>20R</td>\n",
       "      <td>5900-5999</td>\n",
       "      <td>DUMFRIES</td>\n",
       "      <td>DR</td>\n",
       "      <td>-</td>\n",
       "      <td>1.0</td>\n",
       "      <td>NaN</td>\n",
       "      <td>5900 DUMFRIES DR</td>\n",
       "      <td>HOUSTON</td>\n",
       "      <td>TX</td>\n",
       "    </tr>\n",
       "  </tbody>\n",
       "</table>\n",
       "<p>5 rows × 34 columns</p>\n",
       "</div>"
      ],
      "text/plain": [
       "   Unnamed: 0  ObjectID Status      Score Match_type Side          X  \\\n",
       "0           1         1      M  81.378428          A    R -95.322341   \n",
       "1           2         2      M  81.378428          A    L -95.478453   \n",
       "2           3         3      M  81.378428          A    R -95.299274   \n",
       "3           4         4      M  81.378428          A    R -95.351548   \n",
       "4           5         5      M  81.378428          A    R -95.492678   \n",
       "\n",
       "           Y                               Match_addr           ARC_Street  \\\n",
       "0  29.801320    4500 WIPPRECHT ST, HOUSTON, TX, 77026    4500 WIPPRECHT ST   \n",
       "1  29.731622    5700 RICHMOND AVE, HOUSTON, TX, 77057    5700 RICHMOND AVE   \n",
       "2  29.900101  12200 SWAN RIVER DR, HOUSTON, TX, 77050  12200 SWAN RIVER DR   \n",
       "3  29.692139       6600 LONDON ST, HOUSTON, TX, 77021       6600 LONDON ST   \n",
       "4  29.671037     5900 DUMFRIES DR, HOUSTON, TX, 77096     5900 DUMFRIES DR   \n",
       "\n",
       "   ... Premise  Block Range  Street Name  Type Suffix # Of Offenses X__1  \\\n",
       "0  ...     13R    4500-4599    WIPPRECHT    ST      -           1.0  NaN   \n",
       "1  ...     18N    5700-5799     RICHMOND   AVE      -           1.0  NaN   \n",
       "2  ...     20D  12200-12299   SWAN RIVER    DR      -           1.0  NaN   \n",
       "3  ...     20A    6600-6699       LONDON    ST      -           1.0  NaN   \n",
       "4  ...     20R    5900-5999     DUMFRIES    DR      -           1.0  NaN   \n",
       "\n",
       "             Address.1   City.1  State.1  \n",
       "0    4500 WIPPRECHT ST  HOUSTON       TX  \n",
       "1    5700 RICHMOND AVE  HOUSTON       TX  \n",
       "2  12200 SWAN RIVER DR  HOUSTON       TX  \n",
       "3       6600 LONDON ST  HOUSTON       TX  \n",
       "4     5900 DUMFRIES DR  HOUSTON       TX  \n",
       "\n",
       "[5 rows x 34 columns]"
      ]
     },
     "execution_count": 43,
     "metadata": {},
     "output_type": "execute_result"
    }
   ],
   "source": [
    "dfs_09.head()"
   ]
  },
  {
   "cell_type": "code",
   "execution_count": 44,
   "metadata": {},
   "outputs": [
    {
     "name": "stdout",
     "output_type": "stream",
     "text": [
      "Index(['Unnamed: 0', 'ObjectID', 'Status', 'Score', 'Match_type', 'Side', 'X',\n",
      "       'Y', 'Match_addr', 'ARC_Street', 'ARC_City', 'ARC_State', 'ARC_ZIP',\n",
      "       'Field1', 'Address', 'City', 'State', 'coords.x1', 'coords.x2', 'X1',\n",
      "       'Date', 'Hour', 'Offense Type', 'Beat', 'Premise', 'Block Range',\n",
      "       'Street Name', 'Type', 'Suffix', '# Of Offenses', 'X__1', 'Address.1',\n",
      "       'City.1', 'State.1'],\n",
      "      dtype='object')\n"
     ]
    },
    {
     "data": {
      "text/plain": [
       "(130875, 34)"
      ]
     },
     "execution_count": 44,
     "metadata": {},
     "output_type": "execute_result"
    }
   ],
   "source": [
    "print(dfs_09.columns)\n",
    "dfs_09.shape"
   ]
  },
  {
   "cell_type": "code",
   "execution_count": 47,
   "metadata": {},
   "outputs": [],
   "source": [
    "dfs_09_clean = dfs_09.drop(columns=['Unnamed: 0', 'ObjectID', 'Status', 'Score', 'Match_type', 'Side', 'Match_addr', 'ARC_Street', 'ARC_City', 'ARC_State','ARC_ZIP', \n",
    "                    'Field1', 'coords.x1', 'coords.x2', 'X1', 'Premise','Suffix', '# Of Offenses', 'X__1', 'Address.1', 'City.1', 'State.1'])"
   ]
  },
  {
   "cell_type": "code",
   "execution_count": 72,
   "metadata": {},
   "outputs": [
    {
     "name": "stdout",
     "output_type": "stream",
     "text": [
      "Index(['X', 'Y', 'Address', 'City', 'State', 'Date', 'Hour', 'Offense Type',\n",
      "       'Beat', 'Block Range', 'Street Name', 'Type'],\n",
      "      dtype='object')\n"
     ]
    }
   ],
   "source": [
    "print(dfs_09_clean.columns)\n",
    "columnNames = ['X', 'Y', 'Address', 'City', 'State', 'Date', 'Hour', 'OffenseType',\n",
    "       'Beat', 'BlockRange', 'StreetName', 'Type']"
   ]
  },
  {
   "cell_type": "code",
   "execution_count": 90,
   "metadata": {},
   "outputs": [
    {
     "name": "stdout",
     "output_type": "stream",
     "text": [
      "Index(['X', 'Y', 'Address', 'City', 'State', 'Date', 'Hour', 'OffenseType',\n",
      "       'Beat', 'BlockRange', 'StreetName', 'Type'],\n",
      "      dtype='object')\n"
     ]
    }
   ],
   "source": [
    "dfs_09_clean.columns = columnNames\n",
    "print(dfs_09_clean.columns)"
   ]
  },
  {
   "cell_type": "code",
   "execution_count": 92,
   "metadata": {},
   "outputs": [
    {
     "data": {
      "text/html": [
       "<div>\n",
       "<style scoped>\n",
       "    .dataframe tbody tr th:only-of-type {\n",
       "        vertical-align: middle;\n",
       "    }\n",
       "\n",
       "    .dataframe tbody tr th {\n",
       "        vertical-align: top;\n",
       "    }\n",
       "\n",
       "    .dataframe thead th {\n",
       "        text-align: right;\n",
       "    }\n",
       "</style>\n",
       "<table border=\"1\" class=\"dataframe\">\n",
       "  <thead>\n",
       "    <tr style=\"text-align: right;\">\n",
       "      <th></th>\n",
       "      <th>X</th>\n",
       "      <th>Y</th>\n",
       "      <th>Address</th>\n",
       "      <th>City</th>\n",
       "      <th>State</th>\n",
       "      <th>Date</th>\n",
       "      <th>Hour</th>\n",
       "      <th>OffenseType</th>\n",
       "      <th>Beat</th>\n",
       "      <th>BlockRange</th>\n",
       "      <th>StreetName</th>\n",
       "      <th>Type</th>\n",
       "    </tr>\n",
       "  </thead>\n",
       "  <tbody>\n",
       "    <tr>\n",
       "      <th>0</th>\n",
       "      <td>-95.322341</td>\n",
       "      <td>29.801320</td>\n",
       "      <td>4500 WIPPRECHT ST</td>\n",
       "      <td>HOUSTON</td>\n",
       "      <td>TX</td>\n",
       "      <td>1980-05-01</td>\n",
       "      <td>12.0</td>\n",
       "      <td>Aggravated Assault</td>\n",
       "      <td>7C20</td>\n",
       "      <td>4500-4599</td>\n",
       "      <td>WIPPRECHT</td>\n",
       "      <td>ST</td>\n",
       "    </tr>\n",
       "    <tr>\n",
       "      <th>1</th>\n",
       "      <td>-95.478453</td>\n",
       "      <td>29.731622</td>\n",
       "      <td>5700 RICHMOND AVE</td>\n",
       "      <td>HOUSTON</td>\n",
       "      <td>TX</td>\n",
       "      <td>1984-08-26</td>\n",
       "      <td>1.0</td>\n",
       "      <td>Theft</td>\n",
       "      <td>18F30</td>\n",
       "      <td>5700-5799</td>\n",
       "      <td>RICHMOND</td>\n",
       "      <td>AVE</td>\n",
       "    </tr>\n",
       "    <tr>\n",
       "      <th>2</th>\n",
       "      <td>-95.299274</td>\n",
       "      <td>29.900101</td>\n",
       "      <td>12200 SWAN RIVER DR</td>\n",
       "      <td>HOUSTON</td>\n",
       "      <td>TX</td>\n",
       "      <td>2000-08-13</td>\n",
       "      <td>17.0</td>\n",
       "      <td>Theft</td>\n",
       "      <td>8C60</td>\n",
       "      <td>12200-12299</td>\n",
       "      <td>SWAN RIVER</td>\n",
       "      <td>DR</td>\n",
       "    </tr>\n",
       "    <tr>\n",
       "      <th>3</th>\n",
       "      <td>-95.351548</td>\n",
       "      <td>29.692139</td>\n",
       "      <td>6600 LONDON ST</td>\n",
       "      <td>HOUSTON</td>\n",
       "      <td>TX</td>\n",
       "      <td>2001-08-20</td>\n",
       "      <td>20.0</td>\n",
       "      <td>Theft</td>\n",
       "      <td>14D10</td>\n",
       "      <td>6600-6699</td>\n",
       "      <td>LONDON</td>\n",
       "      <td>ST</td>\n",
       "    </tr>\n",
       "    <tr>\n",
       "      <th>4</th>\n",
       "      <td>-95.492678</td>\n",
       "      <td>29.671037</td>\n",
       "      <td>5900 DUMFRIES DR</td>\n",
       "      <td>HOUSTON</td>\n",
       "      <td>TX</td>\n",
       "      <td>2002-01-01</td>\n",
       "      <td>8.0</td>\n",
       "      <td>Theft</td>\n",
       "      <td>15E10</td>\n",
       "      <td>5900-5999</td>\n",
       "      <td>DUMFRIES</td>\n",
       "      <td>DR</td>\n",
       "    </tr>\n",
       "  </tbody>\n",
       "</table>\n",
       "</div>"
      ],
      "text/plain": [
       "           X          Y              Address     City State        Date  Hour  \\\n",
       "0 -95.322341  29.801320    4500 WIPPRECHT ST  HOUSTON    TX  1980-05-01  12.0   \n",
       "1 -95.478453  29.731622    5700 RICHMOND AVE  HOUSTON    TX  1984-08-26   1.0   \n",
       "2 -95.299274  29.900101  12200 SWAN RIVER DR  HOUSTON    TX  2000-08-13  17.0   \n",
       "3 -95.351548  29.692139       6600 LONDON ST  HOUSTON    TX  2001-08-20  20.0   \n",
       "4 -95.492678  29.671037     5900 DUMFRIES DR  HOUSTON    TX  2002-01-01   8.0   \n",
       "\n",
       "          OffenseType   Beat   BlockRange  StreetName Type  \n",
       "0  Aggravated Assault   7C20    4500-4599   WIPPRECHT   ST  \n",
       "1               Theft  18F30    5700-5799    RICHMOND  AVE  \n",
       "2               Theft   8C60  12200-12299  SWAN RIVER   DR  \n",
       "3               Theft  14D10    6600-6699      LONDON   ST  \n",
       "4               Theft  15E10    5900-5999    DUMFRIES   DR  "
      ]
     },
     "execution_count": 92,
     "metadata": {},
     "output_type": "execute_result"
    }
   ],
   "source": []
  },
  {
   "cell_type": "code",
   "execution_count": 93,
   "metadata": {},
   "outputs": [],
   "source": [
    "dfs_09_clean.to_csv('data/HPD_Crime/Crime_09.csv',index=False)"
   ]
  },
  {
   "cell_type": "code",
   "execution_count": 50,
   "metadata": {},
   "outputs": [],
   "source": [
    "dfs_10 = pd.read_csv('data/HPD_Crime/UCR10_crime.csv')\n",
    "dfs_11 = pd.read_csv('data/HPD_Crime/UCR11_crime.csv')\n"
   ]
  },
  {
   "cell_type": "code",
   "execution_count": 62,
   "metadata": {},
   "outputs": [],
   "source": [
    "dfs_12 = pd.read_csv('data/HPD_Crime/UCR12_crime.csv')\n",
    "dfs_13 = pd.read_csv('data/HPD_Crime/UCR13_crime.csv')\n",
    "dfs_14 = pd.read_csv('data/HPD_Crime/UCR14_crime.csv')\n",
    "dfs_15 = pd.read_csv('data/HPD_Crime/UCR15_crime.csv')"
   ]
  },
  {
   "cell_type": "code",
   "execution_count": 51,
   "metadata": {
    "scrolled": true
   },
   "outputs": [
    {
     "name": "stdout",
     "output_type": "stream",
     "text": [
      "(116704, 35)\n",
      "(117015, 33)\n",
      "Index(['Unnamed: 0', 'ObjectID', 'Status', 'Score', 'Match_type', 'Side', 'X',\n",
      "       'Y', 'Match_addr', 'ARC_Street', 'ARC_City', 'ARC_State', 'ARC_ZIP',\n",
      "       'Field1', 'Address', 'City', 'State', 'coords.x1', 'coords.x2', 'X1',\n",
      "       'Date', 'Hour', 'Offense Type', 'Beat', 'Premise', 'Block Range',\n",
      "       'Street Name', 'Type', 'Suffix', '# Of Offenses', 'Field11', 'X__1',\n",
      "       'Address.1', 'City.1', 'State.1'],\n",
      "      dtype='object')\n",
      "Index(['Unnamed: 0', 'ObjectID', 'Status', 'Score', 'Match_type', 'Side', 'X',\n",
      "       'Y', 'Match_addr', 'ARC_Street', 'ARC_City', 'ARC_State', 'ARC_ZIP',\n",
      "       'Field1', 'Address', 'City', 'State', 'coords.x1', 'coords.x2', 'X1',\n",
      "       'Date', 'Hour', 'Offense Type', 'Beat', 'Premise', 'Block Range',\n",
      "       'Street Name', 'Type', 'Suffix', '# Of Offenses', 'Address.1', 'City.1',\n",
      "       'State.1'],\n",
      "      dtype='object')\n"
     ]
    }
   ],
   "source": [
    "print(dfs_10.shape)\n",
    "print(dfs_11.shape)\n",
    "print(dfs_10.columns)\n",
    "print(dfs_11.columns)"
   ]
  },
  {
   "cell_type": "code",
   "execution_count": 52,
   "metadata": {},
   "outputs": [],
   "source": [
    "dfs_10_clean = dfs_10.drop(columns=['Unnamed: 0', 'ObjectID', 'Status', 'Score', 'Match_type', 'Side', 'Match_addr', 'ARC_Street', 'ARC_City', 'ARC_State','ARC_ZIP', \n",
    "                    'Field1', 'Field11', 'coords.x1', 'coords.x2', 'X1', 'Premise','Suffix', '# Of Offenses', 'X__1', 'Address.1', 'City.1', 'State.1'])"
   ]
  },
  {
   "cell_type": "code",
   "execution_count": 73,
   "metadata": {},
   "outputs": [
    {
     "name": "stdout",
     "output_type": "stream",
     "text": [
      "Index(['X', 'Y', 'Address', 'City', 'State', 'Date', 'Hour', 'Offense Type',\n",
      "       'Beat', 'Block Range', 'Street Name', 'Type'],\n",
      "      dtype='object')\n"
     ]
    }
   ],
   "source": [
    "print(dfs_10_clean.columns)\n",
    "\n",
    "dfs_10_clean.columns = columnNames"
   ]
  },
  {
   "cell_type": "code",
   "execution_count": 58,
   "metadata": {},
   "outputs": [],
   "source": [
    "dfs_11_clean = dfs_11.drop(columns=['Unnamed: 0', 'ObjectID', 'Status', 'Score', 'Match_type', 'Side', 'Match_addr', 'ARC_Street', 'ARC_City', 'ARC_State','ARC_ZIP', \n",
    "                    'coords.x1', 'coords.x2', 'X1', 'Premise','Suffix', '# Of Offenses', 'Address.1', 'City.1', 'State.1', 'Field1'])"
   ]
  },
  {
   "cell_type": "code",
   "execution_count": 74,
   "metadata": {},
   "outputs": [
    {
     "name": "stdout",
     "output_type": "stream",
     "text": [
      "Index(['X', 'Y', 'Address', 'City', 'State', 'Date', 'Hour', 'OffenseType',\n",
      "       'Beat', 'BlockRange', 'StreetName', 'Type'],\n",
      "      dtype='object')\n"
     ]
    }
   ],
   "source": [
    "dfs_11_clean.columns = columnNames\n",
    "\n",
    "print(dfs_11_clean.columns)"
   ]
  },
  {
   "cell_type": "code",
   "execution_count": 64,
   "metadata": {},
   "outputs": [
    {
     "data": {
      "text/plain": [
       "Index(['Unnamed: 0', 'ObjectID', 'Status', 'Score', 'Match_type', 'Side', 'X',\n",
       "       'Y', 'Match_addr', 'ARC_Street', 'ARC_City', 'ARC_State', 'ARC_ZIP',\n",
       "       'Field1', 'Address', 'City', 'State', 'coords.x1', 'coords.x2', 'X1',\n",
       "       'Date', 'Hour', 'Offense Type', 'Beat', 'Premise', 'Block Range',\n",
       "       'Street Name', 'Type', 'Suffix', '# Of Offenses', 'Address.1', 'City.1',\n",
       "       'State.1'],\n",
       "      dtype='object')"
      ]
     },
     "execution_count": 64,
     "metadata": {},
     "output_type": "execute_result"
    }
   ],
   "source": [
    "dfs_12.columns"
   ]
  },
  {
   "cell_type": "code",
   "execution_count": 65,
   "metadata": {},
   "outputs": [],
   "source": [
    "dfs_12_clean = dfs_12.drop(columns=['Unnamed: 0', 'ObjectID', 'Status', 'Score', 'Match_type', 'Side', 'Match_addr', 'ARC_Street', 'ARC_City', 'ARC_State','ARC_ZIP', \n",
    "                    'coords.x1', 'coords.x2', 'X1', 'Premise','Suffix', '# Of Offenses', 'Address.1', 'City.1', 'State.1', 'Field1'])"
   ]
  },
  {
   "cell_type": "code",
   "execution_count": 76,
   "metadata": {},
   "outputs": [
    {
     "name": "stdout",
     "output_type": "stream",
     "text": [
      "Index(['X', 'Y', 'Address', 'City', 'State', 'Date', 'Hour', 'OffenseType',\n",
      "       'Beat', 'BlockRange', 'StreetName', 'Type'],\n",
      "      dtype='object')\n"
     ]
    }
   ],
   "source": [
    "dfs_12_clean.columns = columnNames\n",
    "print(dfs_12_clean.columns)"
   ]
  },
  {
   "cell_type": "code",
   "execution_count": 70,
   "metadata": {},
   "outputs": [],
   "source": [
    "dfs_13_clean = dfs_13.drop(columns=['Unnamed: 0', 'ObjectID', 'Status', 'Score', 'Match_type', 'Side', 'Match_addr', 'ARC_Street', 'ARC_City', 'ARC_State','ARC_ZIP', \n",
    "                    'coords.x1', 'coords.x2', 'X1', 'Premise','Suffix', '# Of Offenses', '# Of','Address.1', 'City.1', 'State.1', 'Field1'])"
   ]
  },
  {
   "cell_type": "code",
   "execution_count": 79,
   "metadata": {},
   "outputs": [
    {
     "name": "stdout",
     "output_type": "stream",
     "text": [
      "Index(['X', 'Y', 'Address', 'City', 'State', 'Date', 'Hour', 'OffenseType',\n",
      "       'Beat', 'BlockRange', 'StreetName', 'Type'],\n",
      "      dtype='object')\n"
     ]
    }
   ],
   "source": [
    "dfs_13_clean.columns = columnNames\n",
    "print(dfs_13_clean.columns)"
   ]
  },
  {
   "cell_type": "code",
   "execution_count": 80,
   "metadata": {},
   "outputs": [],
   "source": [
    "dfs_14_clean = dfs_14.drop(columns=['Unnamed: 0', 'ObjectID', 'Status', 'Score', 'Match_type', 'Side', 'Match_addr', 'ARC_Street', 'ARC_City', 'ARC_State','ARC_ZIP', \n",
    "                    'coords.x1', 'coords.x2', 'X1', 'Premise','Suffix', '# offenses', 'Address.1', 'City.1', 'State.1', 'Field1'])"
   ]
  },
  {
   "cell_type": "code",
   "execution_count": 83,
   "metadata": {},
   "outputs": [
    {
     "name": "stdout",
     "output_type": "stream",
     "text": [
      "Index(['X', 'Y', 'Address', 'City', 'State', 'Date', 'Hour', 'OffenseType',\n",
      "       'Beat', 'BlockRange', 'StreetName', 'Type'],\n",
      "      dtype='object')\n"
     ]
    }
   ],
   "source": [
    "dfs_14_clean.columns = columnNames\n",
    "print(dfs_14_clean.columns)"
   ]
  },
  {
   "cell_type": "code",
   "execution_count": 84,
   "metadata": {},
   "outputs": [],
   "source": [
    "dfs_15_clean = dfs_15.drop(columns=['Unnamed: 0', 'ObjectID', 'Status', 'Score', 'Match_type', 'Side', 'Match_addr', 'ARC_Street', 'ARC_City', 'ARC_State','ARC_ZIP', \n",
    "                    'coords.x1', 'coords.x2', 'X1', 'Premise','Suffix', '# offenses', 'Address.1', 'City.1', 'State.1', 'Field1'])"
   ]
  },
  {
   "cell_type": "code",
   "execution_count": 87,
   "metadata": {},
   "outputs": [
    {
     "name": "stdout",
     "output_type": "stream",
     "text": [
      "Index(['X', 'Y', 'Address', 'City', 'State', 'Date', 'Hour', 'OffenseType',\n",
      "       'Beat', 'BlockRange', 'StreetName', 'Type'],\n",
      "      dtype='object')\n"
     ]
    }
   ],
   "source": [
    "dfs_15_clean.columns = columnNames\n",
    "print(dfs_15_clean.columns)"
   ]
  },
  {
   "cell_type": "code",
   "execution_count": 95,
   "metadata": {},
   "outputs": [],
   "source": [
    "merged_df = pd.concat([dfs_09_clean, dfs_10_clean, dfs_11_clean, dfs_12_clean, dfs_13_clean, dfs_14_clean, dfs_15_clean])\n"
   ]
  },
  {
   "cell_type": "code",
   "execution_count": 98,
   "metadata": {},
   "outputs": [],
   "source": [
    "merged_df.to_csv('data/HPD_Crime/Crime_09_15.csv',index=False)"
   ]
  },
  {
   "cell_type": "code",
   "execution_count": 99,
   "metadata": {},
   "outputs": [
    {
     "data": {
      "text/html": [
       "<div>\n",
       "<style scoped>\n",
       "    .dataframe tbody tr th:only-of-type {\n",
       "        vertical-align: middle;\n",
       "    }\n",
       "\n",
       "    .dataframe tbody tr th {\n",
       "        vertical-align: top;\n",
       "    }\n",
       "\n",
       "    .dataframe thead th {\n",
       "        text-align: right;\n",
       "    }\n",
       "</style>\n",
       "<table border=\"1\" class=\"dataframe\">\n",
       "  <thead>\n",
       "    <tr style=\"text-align: right;\">\n",
       "      <th></th>\n",
       "      <th>X</th>\n",
       "      <th>Y</th>\n",
       "      <th>Address</th>\n",
       "      <th>City</th>\n",
       "      <th>State</th>\n",
       "      <th>Date</th>\n",
       "      <th>Hour</th>\n",
       "      <th>OffenseType</th>\n",
       "      <th>Beat</th>\n",
       "      <th>BlockRange</th>\n",
       "      <th>StreetName</th>\n",
       "      <th>Type</th>\n",
       "    </tr>\n",
       "  </thead>\n",
       "  <tbody>\n",
       "    <tr>\n",
       "      <th>0</th>\n",
       "      <td>-95.322341</td>\n",
       "      <td>29.801320</td>\n",
       "      <td>4500 WIPPRECHT ST</td>\n",
       "      <td>HOUSTON</td>\n",
       "      <td>TX</td>\n",
       "      <td>1980-05-01</td>\n",
       "      <td>12</td>\n",
       "      <td>Aggravated Assault</td>\n",
       "      <td>7C20</td>\n",
       "      <td>4500-4599</td>\n",
       "      <td>WIPPRECHT</td>\n",
       "      <td>ST</td>\n",
       "    </tr>\n",
       "    <tr>\n",
       "      <th>1</th>\n",
       "      <td>-95.478453</td>\n",
       "      <td>29.731622</td>\n",
       "      <td>5700 RICHMOND AVE</td>\n",
       "      <td>HOUSTON</td>\n",
       "      <td>TX</td>\n",
       "      <td>1984-08-26</td>\n",
       "      <td>1</td>\n",
       "      <td>Theft</td>\n",
       "      <td>18F30</td>\n",
       "      <td>5700-5799</td>\n",
       "      <td>RICHMOND</td>\n",
       "      <td>AVE</td>\n",
       "    </tr>\n",
       "    <tr>\n",
       "      <th>2</th>\n",
       "      <td>-95.299274</td>\n",
       "      <td>29.900101</td>\n",
       "      <td>12200 SWAN RIVER DR</td>\n",
       "      <td>HOUSTON</td>\n",
       "      <td>TX</td>\n",
       "      <td>2000-08-13</td>\n",
       "      <td>17</td>\n",
       "      <td>Theft</td>\n",
       "      <td>8C60</td>\n",
       "      <td>12200-12299</td>\n",
       "      <td>SWAN RIVER</td>\n",
       "      <td>DR</td>\n",
       "    </tr>\n",
       "    <tr>\n",
       "      <th>3</th>\n",
       "      <td>-95.351548</td>\n",
       "      <td>29.692139</td>\n",
       "      <td>6600 LONDON ST</td>\n",
       "      <td>HOUSTON</td>\n",
       "      <td>TX</td>\n",
       "      <td>2001-08-20</td>\n",
       "      <td>20</td>\n",
       "      <td>Theft</td>\n",
       "      <td>14D10</td>\n",
       "      <td>6600-6699</td>\n",
       "      <td>LONDON</td>\n",
       "      <td>ST</td>\n",
       "    </tr>\n",
       "    <tr>\n",
       "      <th>4</th>\n",
       "      <td>-95.492678</td>\n",
       "      <td>29.671037</td>\n",
       "      <td>5900 DUMFRIES DR</td>\n",
       "      <td>HOUSTON</td>\n",
       "      <td>TX</td>\n",
       "      <td>2002-01-01</td>\n",
       "      <td>8</td>\n",
       "      <td>Theft</td>\n",
       "      <td>15E10</td>\n",
       "      <td>5900-5999</td>\n",
       "      <td>DUMFRIES</td>\n",
       "      <td>DR</td>\n",
       "    </tr>\n",
       "  </tbody>\n",
       "</table>\n",
       "</div>"
      ],
      "text/plain": [
       "           X          Y              Address     City State        Date Hour  \\\n",
       "0 -95.322341  29.801320    4500 WIPPRECHT ST  HOUSTON    TX  1980-05-01   12   \n",
       "1 -95.478453  29.731622    5700 RICHMOND AVE  HOUSTON    TX  1984-08-26    1   \n",
       "2 -95.299274  29.900101  12200 SWAN RIVER DR  HOUSTON    TX  2000-08-13   17   \n",
       "3 -95.351548  29.692139       6600 LONDON ST  HOUSTON    TX  2001-08-20   20   \n",
       "4 -95.492678  29.671037     5900 DUMFRIES DR  HOUSTON    TX  2002-01-01    8   \n",
       "\n",
       "          OffenseType   Beat   BlockRange  StreetName Type  \n",
       "0  Aggravated Assault   7C20    4500-4599   WIPPRECHT   ST  \n",
       "1               Theft  18F30    5700-5799    RICHMOND  AVE  \n",
       "2               Theft   8C60  12200-12299  SWAN RIVER   DR  \n",
       "3               Theft  14D10    6600-6699      LONDON   ST  \n",
       "4               Theft  15E10    5900-5999    DUMFRIES   DR  "
      ]
     },
     "execution_count": 99,
     "metadata": {},
     "output_type": "execute_result"
    }
   ],
   "source": [
    "merged_df.head()"
   ]
  },
  {
   "cell_type": "code",
   "execution_count": 34,
   "metadata": {},
   "outputs": [
    {
     "data": {
      "text/plain": [
       "(818242, 39)"
      ]
     },
     "execution_count": 34,
     "metadata": {},
     "output_type": "execute_result"
    }
   ],
   "source": [
    "# HPDCrime_09_15.head()\n",
    "# HPDCrime_09_15.shape"
   ]
  }
 ],
 "metadata": {
  "kernelspec": {
   "display_name": "Python 3",
   "language": "python",
   "name": "python3"
  },
  "language_info": {
   "codemirror_mode": {
    "name": "ipython",
    "version": 3
   },
   "file_extension": ".py",
   "mimetype": "text/x-python",
   "name": "python",
   "nbconvert_exporter": "python",
   "pygments_lexer": "ipython3",
   "version": "3.7.3"
  }
 },
 "nbformat": 4,
 "nbformat_minor": 2
}
