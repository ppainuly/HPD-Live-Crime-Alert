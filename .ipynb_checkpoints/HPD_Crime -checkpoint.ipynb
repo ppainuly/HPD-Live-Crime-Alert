{
 "cells": [
  {
   "cell_type": "code",
   "execution_count": 7,
   "metadata": {},
   "outputs": [],
   "source": [
    "import pandas as pd\n",
    "import numpy as np "
   ]
  },
  {
   "cell_type": "code",
   "execution_count": 9,
   "metadata": {},
   "outputs": [
    {
     "name": "stderr",
     "output_type": "stream",
     "text": [
      "b'Skipping line 9875: expected 4 fields, saw 5\\nSkipping line 25802: expected 4 fields, saw 5\\nSkipping line 32153: expected 4 fields, saw 5\\nSkipping line 39559: expected 4 fields, saw 5\\nSkipping line 53030: expected 4 fields, saw 5\\nSkipping line 61290: expected 4 fields, saw 5\\nSkipping line 63738: expected 4 fields, saw 5\\nSkipping line 74463: expected 4 fields, saw 5\\nSkipping line 103770: expected 4 fields, saw 5\\nSkipping line 109737: expected 4 fields, saw 5\\nSkipping line 113867: expected 4 fields, saw 5\\nSkipping line 118038: expected 4 fields, saw 5\\nSkipping line 120847: expected 4 fields, saw 5\\n'\n"
     ]
    }
   ],
   "source": [
    "# Read Data source\n",
    "dfs_09 = pd.read_csv('data/HPD_Crime/UCR09_crime_clean.csv')"
   ]
  },
  {
   "cell_type": "code",
   "execution_count": 13,
   "metadata": {},
   "outputs": [
    {
     "data": {
      "text/plain": [
       "(130862, 1)"
      ]
     },
     "execution_count": 13,
     "metadata": {},
     "output_type": "execute_result"
    }
   ],
   "source": [
    "dfs_09.shape"
   ]
  },
  {
   "cell_type": "code",
   "execution_count": 14,
   "metadata": {},
   "outputs": [
    {
     "data": {
      "text/html": [
       "<div>\n",
       "<style scoped>\n",
       "    .dataframe tbody tr th:only-of-type {\n",
       "        vertical-align: middle;\n",
       "    }\n",
       "\n",
       "    .dataframe tbody tr th {\n",
       "        vertical-align: top;\n",
       "    }\n",
       "\n",
       "    .dataframe thead th {\n",
       "        text-align: right;\n",
       "    }\n",
       "</style>\n",
       "<table border=\"1\" class=\"dataframe\">\n",
       "  <thead>\n",
       "    <tr style=\"text-align: right;\">\n",
       "      <th></th>\n",
       "      <th></th>\n",
       "      <th></th>\n",
       "      <th>;\"ObjectID\";\"Status\";\"Score\";\"Match_type\";\"Side\";\"X\";\"Y\";\"Match_addr\";\"ARC_Street\";\"ARC_City\";\"ARC_State\";\"ARC_ZIP\";\"Field1\";\"Address\";\"City\";\"State\";\"coords.x1\";\"coords.x2\";\"X1\";\"Date\";\"Hour\";\"Offense Type\";\"Beat\";\"Premise\";\"Block Range\";\"Street Name\";\"Type\";\"Suffix\";\"# Of Offenses\";\"X__1\";\"Address\";\"City\";\"State\"</th>\n",
       "    </tr>\n",
       "  </thead>\n",
       "  <tbody>\n",
       "    <tr>\n",
       "      <th>1;\"1\";\"M\";81.3784275661;\"A\";\"R\";-95.3223410668;29.8013204858;\"4500 WIPPRECHT ST</th>\n",
       "      <th>HOUSTON</th>\n",
       "      <th>TX</th>\n",
       "      <td>77026\";\"4500 WIPPRECHT ST\";\"HOUSTON\";\"TX\";NA;...</td>\n",
       "    </tr>\n",
       "    <tr>\n",
       "      <th>2;\"2\";\"M\";81.3784275661;\"A\";\"L\";-95.4784532114;29.7316224117;\"5700 RICHMOND AVE</th>\n",
       "      <th>HOUSTON</th>\n",
       "      <th>TX</th>\n",
       "      <td>77057\";\"5700 RICHMOND AVE\";\"HOUSTON\";\"TX\";NA;...</td>\n",
       "    </tr>\n",
       "    <tr>\n",
       "      <th>3;\"3\";\"M\";81.3784275661;\"A\";\"R\";-95.2992741402;29.9001008138;\"12200 SWAN RIVER DR</th>\n",
       "      <th>HOUSTON</th>\n",
       "      <th>TX</th>\n",
       "      <td>77050\";\"12200 SWAN RIVER DR\";\"HOUSTON\";\"TX\";N...</td>\n",
       "    </tr>\n",
       "    <tr>\n",
       "      <th>4;\"4\";\"M\";81.3784275661;\"A\";\"R\";-95.3515479239;29.6921393925;\"6600 LONDON ST</th>\n",
       "      <th>HOUSTON</th>\n",
       "      <th>TX</th>\n",
       "      <td>77021\";\"6600 LONDON ST\";\"HOUSTON\";\"TX\";NA;\"4\"...</td>\n",
       "    </tr>\n",
       "    <tr>\n",
       "      <th>5;\"5\";\"M\";81.3784275661;\"A\";\"R\";-95.492678199;29.6710374675;\"5900 DUMFRIES DR</th>\n",
       "      <th>HOUSTON</th>\n",
       "      <th>TX</th>\n",
       "      <td>77096\";\"5900 DUMFRIES DR\";\"HOUSTON\";\"TX\";NA;\"...</td>\n",
       "    </tr>\n",
       "  </tbody>\n",
       "</table>\n",
       "</div>"
      ],
      "text/plain": [
       "                                                                ;\"ObjectID\";\"Status\";\"Score\";\"Match_type\";\"Side\";\"X\";\"Y\";\"Match_addr\";\"ARC_Street\";\"ARC_City\";\"ARC_State\";\"ARC_ZIP\";\"Field1\";\"Address\";\"City\";\"State\";\"coords.x1\";\"coords.x2\";\"X1\";\"Date\";\"Hour\";\"Offense Type\";\"Beat\";\"Premise\";\"Block Range\";\"Street Name\";\"Type\";\"Suffix\";\"# Of Offenses\";\"X__1\";\"Address\";\"City\";\"State\"\n",
       "1;\"1\";\"M\";81.3784275661;\"A\";\"R\";-95.3223410668;...  HOUSTON  TX   77026\";\"4500 WIPPRECHT ST\";\"HOUSTON\";\"TX\";NA;...                                                                                                                                                                                                                                                                          \n",
       "2;\"2\";\"M\";81.3784275661;\"A\";\"L\";-95.4784532114;...  HOUSTON  TX   77057\";\"5700 RICHMOND AVE\";\"HOUSTON\";\"TX\";NA;...                                                                                                                                                                                                                                                                          \n",
       "3;\"3\";\"M\";81.3784275661;\"A\";\"R\";-95.2992741402;...  HOUSTON  TX   77050\";\"12200 SWAN RIVER DR\";\"HOUSTON\";\"TX\";N...                                                                                                                                                                                                                                                                          \n",
       "4;\"4\";\"M\";81.3784275661;\"A\";\"R\";-95.3515479239;...  HOUSTON  TX   77021\";\"6600 LONDON ST\";\"HOUSTON\";\"TX\";NA;\"4\"...                                                                                                                                                                                                                                                                          \n",
       "5;\"5\";\"M\";81.3784275661;\"A\";\"R\";-95.492678199;2...  HOUSTON  TX   77096\";\"5900 DUMFRIES DR\";\"HOUSTON\";\"TX\";NA;\"...                                                                                                                                                                                                                                                                          "
      ]
     },
     "execution_count": 14,
     "metadata": {},
     "output_type": "execute_result"
    }
   ],
   "source": [
    "dfs_09.head()"
   ]
  },
  {
   "cell_type": "code",
   "execution_count": null,
   "metadata": {},
   "outputs": [],
   "source": []
  }
 ],
 "metadata": {
  "kernelspec": {
   "display_name": "Python 3",
   "language": "python",
   "name": "python3"
  },
  "language_info": {
   "codemirror_mode": {
    "name": "ipython",
    "version": 3
   },
   "file_extension": ".py",
   "mimetype": "text/x-python",
   "name": "python",
   "nbconvert_exporter": "python",
   "pygments_lexer": "ipython3",
   "version": "3.7.3"
  }
 },
 "nbformat": 4,
 "nbformat_minor": 2
}
